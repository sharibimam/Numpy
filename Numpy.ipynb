{
 "cells": [
  {
   "cell_type": "markdown",
   "metadata": {},
   "source": [
    "## Numpy\n",
    "\n",
    "NumPy is a library for the Python programming language, adding support for large, multi-dimensional arrays and matrices, along with a large collection of high-level mathematical functions to operate on these arrays."
   ]
  },
  {
   "cell_type": "code",
   "execution_count": 1,
   "metadata": {},
   "outputs": [],
   "source": [
    "import numpy as np"
   ]
  },
  {
   "cell_type": "code",
   "execution_count": 2,
   "metadata": {},
   "outputs": [],
   "source": [
    "ar = np.arange(100,500,10)"
   ]
  },
  {
   "cell_type": "code",
   "execution_count": 3,
   "metadata": {},
   "outputs": [
    {
     "data": {
      "text/plain": [
       "array([100, 110, 120, 130, 140, 150, 160, 170, 180, 190, 200, 210, 220,\n",
       "       230, 240, 250, 260, 270, 280, 290, 300, 310, 320, 330, 340, 350,\n",
       "       360, 370, 380, 390, 400, 410, 420, 430, 440, 450, 460, 470, 480,\n",
       "       490])"
      ]
     },
     "execution_count": 3,
     "metadata": {},
     "output_type": "execute_result"
    }
   ],
   "source": [
    "ar"
   ]
  },
  {
   "cell_type": "code",
   "execution_count": 4,
   "metadata": {
    "scrolled": true
   },
   "outputs": [
    {
     "data": {
      "text/plain": [
       "numpy.ndarray"
      ]
     },
     "execution_count": 4,
     "metadata": {},
     "output_type": "execute_result"
    }
   ],
   "source": [
    "type(ar)"
   ]
  },
  {
   "cell_type": "code",
   "execution_count": 5,
   "metadata": {},
   "outputs": [
    {
     "data": {
      "text/plain": [
       "(40,)"
      ]
     },
     "execution_count": 5,
     "metadata": {},
     "output_type": "execute_result"
    }
   ],
   "source": [
    "ar.shape"
   ]
  },
  {
   "cell_type": "code",
   "execution_count": 6,
   "metadata": {},
   "outputs": [
    {
     "data": {
      "text/plain": [
       "1"
      ]
     },
     "execution_count": 6,
     "metadata": {},
     "output_type": "execute_result"
    }
   ],
   "source": [
    "ar.ndim"
   ]
  },
  {
   "cell_type": "code",
   "execution_count": 7,
   "metadata": {},
   "outputs": [
    {
     "data": {
      "text/plain": [
       "dtype('int64')"
      ]
     },
     "execution_count": 7,
     "metadata": {},
     "output_type": "execute_result"
    }
   ],
   "source": [
    "ar.dtype"
   ]
  },
  {
   "cell_type": "code",
   "execution_count": 8,
   "metadata": {},
   "outputs": [],
   "source": [
    "li = [i for i in range(1,100)]"
   ]
  },
  {
   "cell_type": "code",
   "execution_count": 9,
   "metadata": {},
   "outputs": [],
   "source": [
    "ar = np.array(li, dtype=np.float, ndmin=3)"
   ]
  },
  {
   "cell_type": "code",
   "execution_count": 10,
   "metadata": {
    "scrolled": true
   },
   "outputs": [
    {
     "data": {
      "text/plain": [
       "array([[[ 1.,  2.,  3.,  4.,  5.,  6.,  7.,  8.,  9., 10., 11., 12.,\n",
       "         13., 14., 15., 16., 17., 18., 19., 20., 21., 22., 23., 24.,\n",
       "         25., 26., 27., 28., 29., 30., 31., 32., 33., 34., 35., 36.,\n",
       "         37., 38., 39., 40., 41., 42., 43., 44., 45., 46., 47., 48.,\n",
       "         49., 50., 51., 52., 53., 54., 55., 56., 57., 58., 59., 60.,\n",
       "         61., 62., 63., 64., 65., 66., 67., 68., 69., 70., 71., 72.,\n",
       "         73., 74., 75., 76., 77., 78., 79., 80., 81., 82., 83., 84.,\n",
       "         85., 86., 87., 88., 89., 90., 91., 92., 93., 94., 95., 96.,\n",
       "         97., 98., 99.]]])"
      ]
     },
     "execution_count": 10,
     "metadata": {},
     "output_type": "execute_result"
    }
   ],
   "source": [
    "ar"
   ]
  },
  {
   "cell_type": "code",
   "execution_count": 11,
   "metadata": {},
   "outputs": [
    {
     "data": {
      "text/plain": [
       "array([11., 12., 13., 14., 15., 16., 17., 18., 19., 20., 21., 22., 23.,\n",
       "       24., 25., 26., 27., 28., 29., 30., 31., 32., 33., 34., 35., 36.,\n",
       "       37., 38., 39., 40., 41., 42., 43., 44., 45., 46., 47., 48., 49.,\n",
       "       50.])"
      ]
     },
     "execution_count": 11,
     "metadata": {},
     "output_type": "execute_result"
    }
   ],
   "source": [
    "ar[0,0,10:50]"
   ]
  },
  {
   "cell_type": "code",
   "execution_count": 12,
   "metadata": {},
   "outputs": [
    {
     "data": {
      "text/plain": [
       "(1, 1, 99)"
      ]
     },
     "execution_count": 12,
     "metadata": {},
     "output_type": "execute_result"
    }
   ],
   "source": [
    "ar.shape"
   ]
  },
  {
   "cell_type": "code",
   "execution_count": 13,
   "metadata": {},
   "outputs": [
    {
     "data": {
      "text/plain": [
       "1"
      ]
     },
     "execution_count": 13,
     "metadata": {},
     "output_type": "execute_result"
    }
   ],
   "source": [
    "len(ar)"
   ]
  },
  {
   "cell_type": "code",
   "execution_count": 14,
   "metadata": {},
   "outputs": [
    {
     "data": {
      "text/plain": [
       "numpy.ndarray"
      ]
     },
     "execution_count": 14,
     "metadata": {},
     "output_type": "execute_result"
    }
   ],
   "source": [
    "type(ar)"
   ]
  },
  {
   "cell_type": "code",
   "execution_count": 15,
   "metadata": {},
   "outputs": [
    {
     "data": {
      "text/plain": [
       "dtype('float64')"
      ]
     },
     "execution_count": 15,
     "metadata": {},
     "output_type": "execute_result"
    }
   ],
   "source": [
    "ar.dtype"
   ]
  },
  {
   "cell_type": "code",
   "execution_count": 16,
   "metadata": {},
   "outputs": [
    {
     "data": {
      "text/plain": [
       "array([[[ 1.+0.j,  2.+0.j,  3.+0.j,  4.+0.j,  5.+0.j,  6.+0.j,  7.+0.j,\n",
       "          8.+0.j,  9.+0.j, 10.+0.j, 11.+0.j, 12.+0.j, 13.+0.j, 14.+0.j,\n",
       "         15.+0.j, 16.+0.j, 17.+0.j, 18.+0.j, 19.+0.j, 20.+0.j, 21.+0.j,\n",
       "         22.+0.j, 23.+0.j, 24.+0.j, 25.+0.j, 26.+0.j, 27.+0.j, 28.+0.j,\n",
       "         29.+0.j, 30.+0.j, 31.+0.j, 32.+0.j, 33.+0.j, 34.+0.j, 35.+0.j,\n",
       "         36.+0.j, 37.+0.j, 38.+0.j, 39.+0.j, 40.+0.j, 41.+0.j, 42.+0.j,\n",
       "         43.+0.j, 44.+0.j, 45.+0.j, 46.+0.j, 47.+0.j, 48.+0.j, 49.+0.j,\n",
       "         50.+0.j, 51.+0.j, 52.+0.j, 53.+0.j, 54.+0.j, 55.+0.j, 56.+0.j,\n",
       "         57.+0.j, 58.+0.j, 59.+0.j, 60.+0.j, 61.+0.j, 62.+0.j, 63.+0.j,\n",
       "         64.+0.j, 65.+0.j, 66.+0.j, 67.+0.j, 68.+0.j, 69.+0.j, 70.+0.j,\n",
       "         71.+0.j, 72.+0.j, 73.+0.j, 74.+0.j, 75.+0.j, 76.+0.j, 77.+0.j,\n",
       "         78.+0.j, 79.+0.j, 80.+0.j, 81.+0.j, 82.+0.j, 83.+0.j, 84.+0.j,\n",
       "         85.+0.j, 86.+0.j, 87.+0.j, 88.+0.j, 89.+0.j, 90.+0.j, 91.+0.j,\n",
       "         92.+0.j, 93.+0.j, 94.+0.j, 95.+0.j, 96.+0.j, 97.+0.j, 98.+0.j,\n",
       "         99.+0.j]]])"
      ]
     },
     "execution_count": 16,
     "metadata": {},
     "output_type": "execute_result"
    }
   ],
   "source": [
    "ar.astype(np.complex)"
   ]
  },
  {
   "cell_type": "code",
   "execution_count": 17,
   "metadata": {},
   "outputs": [
    {
     "data": {
      "text/plain": [
       "array([[[ 1.,  2.,  3.,  4.,  5.,  6.,  7.,  8.,  9., 10., 11., 12.,\n",
       "         13., 14., 15., 16., 17., 18., 19., 20., 21., 22., 23., 24.,\n",
       "         25., 26., 27., 28., 29., 30., 31., 32., 33., 34., 35., 36.,\n",
       "         37., 38., 39., 40., 41., 42., 43., 44., 45., 46., 47., 48.,\n",
       "         49., 50., 51., 52., 53., 54., 55., 56., 57., 58., 59., 60.,\n",
       "         61., 62., 63., 64., 65., 66., 67., 68., 69., 70., 71., 72.,\n",
       "         73., 74., 75., 76., 77., 78., 79., 80., 81., 82., 83., 84.,\n",
       "         85., 86., 87., 88., 89., 90., 91., 92., 93., 94., 95., 96.,\n",
       "         97., 98., 99.]]])"
      ]
     },
     "execution_count": 17,
     "metadata": {},
     "output_type": "execute_result"
    }
   ],
   "source": [
    "ar"
   ]
  },
  {
   "cell_type": "code",
   "execution_count": 18,
   "metadata": {},
   "outputs": [
    {
     "data": {
      "text/plain": [
       "array([[[ 1.,  2.,  3.],\n",
       "        [ 4.,  5.,  6.],\n",
       "        [ 7.,  8.,  9.]],\n",
       "\n",
       "       [[10., 11., 12.],\n",
       "        [13., 14., 15.],\n",
       "        [16., 17., 18.]],\n",
       "\n",
       "       [[19., 20., 21.],\n",
       "        [22., 23., 24.],\n",
       "        [25., 26., 27.]],\n",
       "\n",
       "       [[28., 29., 30.],\n",
       "        [31., 32., 33.],\n",
       "        [34., 35., 36.]],\n",
       "\n",
       "       [[37., 38., 39.],\n",
       "        [40., 41., 42.],\n",
       "        [43., 44., 45.]],\n",
       "\n",
       "       [[46., 47., 48.],\n",
       "        [49., 50., 51.],\n",
       "        [52., 53., 54.]],\n",
       "\n",
       "       [[55., 56., 57.],\n",
       "        [58., 59., 60.],\n",
       "        [61., 62., 63.]],\n",
       "\n",
       "       [[64., 65., 66.],\n",
       "        [67., 68., 69.],\n",
       "        [70., 71., 72.]],\n",
       "\n",
       "       [[73., 74., 75.],\n",
       "        [76., 77., 78.],\n",
       "        [79., 80., 81.]],\n",
       "\n",
       "       [[82., 83., 84.],\n",
       "        [85., 86., 87.],\n",
       "        [88., 89., 90.]],\n",
       "\n",
       "       [[91., 92., 93.],\n",
       "        [94., 95., 96.],\n",
       "        [97., 98., 99.]]])"
      ]
     },
     "execution_count": 18,
     "metadata": {},
     "output_type": "execute_result"
    }
   ],
   "source": [
    "ar.reshape(11,3,3)"
   ]
  },
  {
   "cell_type": "code",
   "execution_count": 19,
   "metadata": {},
   "outputs": [
    {
     "data": {
      "text/plain": [
       "(1, 1, 99)"
      ]
     },
     "execution_count": 19,
     "metadata": {},
     "output_type": "execute_result"
    }
   ],
   "source": [
    "ar.shape"
   ]
  },
  {
   "cell_type": "code",
   "execution_count": 20,
   "metadata": {},
   "outputs": [],
   "source": [
    "b = ar.reshape(11,3,3)"
   ]
  },
  {
   "cell_type": "code",
   "execution_count": 21,
   "metadata": {},
   "outputs": [
    {
     "data": {
      "text/plain": [
       "(11, 3, 3)"
      ]
     },
     "execution_count": 21,
     "metadata": {},
     "output_type": "execute_result"
    }
   ],
   "source": [
    "b.shape"
   ]
  },
  {
   "cell_type": "code",
   "execution_count": 22,
   "metadata": {},
   "outputs": [
    {
     "data": {
      "text/plain": [
       "(1, 1, 99)"
      ]
     },
     "execution_count": 22,
     "metadata": {},
     "output_type": "execute_result"
    }
   ],
   "source": [
    "ar.shape"
   ]
  },
  {
   "cell_type": "code",
   "execution_count": 23,
   "metadata": {},
   "outputs": [],
   "source": [
    "ar.resize(33,3)"
   ]
  },
  {
   "cell_type": "code",
   "execution_count": 24,
   "metadata": {},
   "outputs": [
    {
     "data": {
      "text/plain": [
       "(33, 3)"
      ]
     },
     "execution_count": 24,
     "metadata": {},
     "output_type": "execute_result"
    }
   ],
   "source": [
    "ar.shape"
   ]
  },
  {
   "cell_type": "code",
   "execution_count": 25,
   "metadata": {},
   "outputs": [],
   "source": [
    "itervar = range(0,100,2)"
   ]
  },
  {
   "cell_type": "code",
   "execution_count": 26,
   "metadata": {},
   "outputs": [
    {
     "data": {
      "text/plain": [
       "range"
      ]
     },
     "execution_count": 26,
     "metadata": {},
     "output_type": "execute_result"
    }
   ],
   "source": [
    "type(itervar)"
   ]
  },
  {
   "cell_type": "code",
   "execution_count": 27,
   "metadata": {},
   "outputs": [
    {
     "data": {
      "text/plain": [
       "array([[ 0,  2,  4,  6,  8, 10, 12, 14, 16, 18],\n",
       "       [20, 22, 24, 26, 28, 30, 32, 34, 36, 38],\n",
       "       [40, 42, 44, 46, 48, 50, 52, 54, 56, 58],\n",
       "       [60, 62, 64, 66, 68, 70, 72, 74, 76, 78],\n",
       "       [80, 82, 84, 86, 88, 90, 92, 94, 96, 98]])"
      ]
     },
     "execution_count": 27,
     "metadata": {},
     "output_type": "execute_result"
    }
   ],
   "source": [
    "np.fromiter(itervar, dtype=np.int).reshape(5,10)"
   ]
  },
  {
   "cell_type": "code",
   "execution_count": 28,
   "metadata": {},
   "outputs": [
    {
     "data": {
      "text/plain": [
       "array([  1.  ,   1.99,   2.98,   3.97,   4.96,   5.95,   6.94,   7.93,\n",
       "         8.92,   9.91,  10.9 ,  11.89,  12.88,  13.87,  14.86,  15.85,\n",
       "        16.84,  17.83,  18.82,  19.81,  20.8 ,  21.79,  22.78,  23.77,\n",
       "        24.76,  25.75,  26.74,  27.73,  28.72,  29.71,  30.7 ,  31.69,\n",
       "        32.68,  33.67,  34.66,  35.65,  36.64,  37.63,  38.62,  39.61,\n",
       "        40.6 ,  41.59,  42.58,  43.57,  44.56,  45.55,  46.54,  47.53,\n",
       "        48.52,  49.51,  50.5 ,  51.49,  52.48,  53.47,  54.46,  55.45,\n",
       "        56.44,  57.43,  58.42,  59.41,  60.4 ,  61.39,  62.38,  63.37,\n",
       "        64.36,  65.35,  66.34,  67.33,  68.32,  69.31,  70.3 ,  71.29,\n",
       "        72.28,  73.27,  74.26,  75.25,  76.24,  77.23,  78.22,  79.21,\n",
       "        80.2 ,  81.19,  82.18,  83.17,  84.16,  85.15,  86.14,  87.13,\n",
       "        88.12,  89.11,  90.1 ,  91.09,  92.08,  93.07,  94.06,  95.05,\n",
       "        96.04,  97.03,  98.02,  99.01, 100.  ])"
      ]
     },
     "execution_count": 28,
     "metadata": {},
     "output_type": "execute_result"
    }
   ],
   "source": [
    "ar = np.linspace(1,100,101)\n",
    "ar"
   ]
  },
  {
   "cell_type": "code",
   "execution_count": 29,
   "metadata": {
    "scrolled": true
   },
   "outputs": [
    {
     "data": {
      "text/plain": [
       "array([[0, 0, 0, 0, 0],\n",
       "       [0, 0, 0, 0, 0],\n",
       "       [0, 0, 0, 0, 0],\n",
       "       [0, 0, 0, 0, 0]])"
      ]
     },
     "execution_count": 29,
     "metadata": {},
     "output_type": "execute_result"
    }
   ],
   "source": [
    "np.zeros((4,5)).astype(int)"
   ]
  },
  {
   "cell_type": "code",
   "execution_count": 30,
   "metadata": {},
   "outputs": [
    {
     "data": {
      "text/plain": [
       "array([[1., 1., 1., 1., 1.],\n",
       "       [1., 1., 1., 1., 1.],\n",
       "       [1., 1., 1., 1., 1.],\n",
       "       [1., 1., 1., 1., 1.]])"
      ]
     },
     "execution_count": 30,
     "metadata": {},
     "output_type": "execute_result"
    }
   ],
   "source": [
    "np.ones((4,5))"
   ]
  },
  {
   "cell_type": "code",
   "execution_count": 31,
   "metadata": {},
   "outputs": [
    {
     "data": {
      "text/plain": [
       "array([[1, 0, 0, 0, 0],\n",
       "       [0, 2, 0, 0, 0],\n",
       "       [0, 0, 3, 0, 0],\n",
       "       [0, 0, 0, 4, 0],\n",
       "       [0, 0, 0, 0, 5]])"
      ]
     },
     "execution_count": 31,
     "metadata": {},
     "output_type": "execute_result"
    }
   ],
   "source": [
    "ar = np.diag([1,2,3,4,5])\n",
    "ar"
   ]
  },
  {
   "cell_type": "code",
   "execution_count": 32,
   "metadata": {},
   "outputs": [
    {
     "data": {
      "text/plain": [
       "(5, 5)"
      ]
     },
     "execution_count": 32,
     "metadata": {},
     "output_type": "execute_result"
    }
   ],
   "source": [
    "ar.shape"
   ]
  },
  {
   "cell_type": "code",
   "execution_count": 33,
   "metadata": {},
   "outputs": [],
   "source": [
    "ar = np.arange(0,20).reshape(4,5)"
   ]
  },
  {
   "cell_type": "code",
   "execution_count": 34,
   "metadata": {},
   "outputs": [
    {
     "name": "stdout",
     "output_type": "stream",
     "text": [
      "[[ 0  1  2  3  4]\n",
      " [ 5  6  7  8  9]\n",
      " [10 11 12 13 14]\n",
      " [15 16 17 18 19]]\n"
     ]
    }
   ],
   "source": [
    "print(ar)"
   ]
  },
  {
   "cell_type": "code",
   "execution_count": 35,
   "metadata": {},
   "outputs": [
    {
     "data": {
      "text/plain": [
       "array([[ 6,  7,  8],\n",
       "       [11, 12, 13]])"
      ]
     },
     "execution_count": 35,
     "metadata": {},
     "output_type": "execute_result"
    }
   ],
   "source": [
    "ar[1:3,1:4]"
   ]
  },
  {
   "cell_type": "code",
   "execution_count": 36,
   "metadata": {},
   "outputs": [],
   "source": [
    "ar[1:3,1:4]=0"
   ]
  },
  {
   "cell_type": "code",
   "execution_count": 37,
   "metadata": {},
   "outputs": [],
   "source": [
    "ar[1:3,1:4] = 0"
   ]
  },
  {
   "cell_type": "code",
   "execution_count": 38,
   "metadata": {},
   "outputs": [
    {
     "data": {
      "text/plain": [
       "array([[ 0,  1,  2,  3,  4],\n",
       "       [ 5,  0,  0,  0,  9],\n",
       "       [10,  0,  0,  0, 14],\n",
       "       [15, 16, 17, 18, 19]])"
      ]
     },
     "execution_count": 38,
     "metadata": {},
     "output_type": "execute_result"
    }
   ],
   "source": [
    "ar"
   ]
  },
  {
   "cell_type": "code",
   "execution_count": 39,
   "metadata": {},
   "outputs": [
    {
     "data": {
      "text/plain": [
       "array([ 1,  3,  5,  9, 15, 17, 19])"
      ]
     },
     "execution_count": 39,
     "metadata": {},
     "output_type": "execute_result"
    }
   ],
   "source": [
    "ar[ar%2 != 0]     #boolean masking"
   ]
  },
  {
   "cell_type": "code",
   "execution_count": 40,
   "metadata": {},
   "outputs": [],
   "source": [
    "ar[ar%2 == 0] = 2\n",
    "ar[ar%2 != 0] = 1"
   ]
  },
  {
   "cell_type": "code",
   "execution_count": 41,
   "metadata": {},
   "outputs": [
    {
     "data": {
      "text/plain": [
       "array([[2, 1, 2, 1, 2],\n",
       "       [1, 2, 2, 2, 1],\n",
       "       [2, 2, 2, 2, 2],\n",
       "       [1, 2, 1, 2, 1]])"
      ]
     },
     "execution_count": 41,
     "metadata": {},
     "output_type": "execute_result"
    }
   ],
   "source": [
    "ar"
   ]
  },
  {
   "cell_type": "code",
   "execution_count": 42,
   "metadata": {},
   "outputs": [],
   "source": [
    "ar = np.random.randint(0,100,100).reshape(20,5)"
   ]
  },
  {
   "cell_type": "code",
   "execution_count": 43,
   "metadata": {},
   "outputs": [
    {
     "data": {
      "text/plain": [
       "4751"
      ]
     },
     "execution_count": 43,
     "metadata": {},
     "output_type": "execute_result"
    }
   ],
   "source": [
    "ar.sum()"
   ]
  },
  {
   "cell_type": "code",
   "execution_count": 44,
   "metadata": {},
   "outputs": [
    {
     "data": {
      "text/plain": [
       "array([[77, 35, 16, 21, 55],\n",
       "       [44, 63, 75,  0, 33],\n",
       "       [73, 44,  3, 57, 67],\n",
       "       [60, 83, 86, 74, 93],\n",
       "       [93, 84, 36, 74,  3],\n",
       "       [63, 51, 67, 52, 27],\n",
       "       [29, 56, 54, 29, 24],\n",
       "       [95,  2, 54, 36, 61],\n",
       "       [67, 90, 88, 73, 17],\n",
       "       [35, 24, 20, 14, 57],\n",
       "       [38, 62, 96, 80, 99],\n",
       "       [98,  8, 28, 88, 39],\n",
       "       [69, 66,  6, 29, 39],\n",
       "       [49,  2, 25, 86, 79],\n",
       "       [51, 60, 44,  3,  0],\n",
       "       [87, 54, 44, 58, 11],\n",
       "       [ 7,  9, 57, 55, 18],\n",
       "       [18, 46, 48, 97, 13],\n",
       "       [31,  6, 19, 28, 24],\n",
       "       [65, 70,  2, 69, 37]])"
      ]
     },
     "execution_count": 44,
     "metadata": {},
     "output_type": "execute_result"
    }
   ],
   "source": [
    "ar"
   ]
  },
  {
   "cell_type": "code",
   "execution_count": 45,
   "metadata": {},
   "outputs": [
    {
     "name": "stdout",
     "output_type": "stream",
     "text": [
      "odd sum: 2541\n",
      "even sum: 2210\n"
     ]
    }
   ],
   "source": [
    "print('odd sum:',ar[ar % 2 != 0].sum())\n",
    "print('even sum:',ar[ar % 2 == 0].sum())"
   ]
  },
  {
   "cell_type": "code",
   "execution_count": 46,
   "metadata": {},
   "outputs": [],
   "source": [
    "import numpy as np"
   ]
  },
  {
   "cell_type": "code",
   "execution_count": 47,
   "metadata": {},
   "outputs": [],
   "source": [
    "a = np.arange(0,20).reshape(4,5)\n",
    "b = np.arange(0,20,4)"
   ]
  },
  {
   "cell_type": "code",
   "execution_count": 48,
   "metadata": {},
   "outputs": [
    {
     "data": {
      "text/plain": [
       "array([[ 0,  1,  2,  3,  4],\n",
       "       [ 5,  6,  7,  8,  9],\n",
       "       [10, 11, 12, 13, 14],\n",
       "       [15, 16, 17, 18, 19]])"
      ]
     },
     "execution_count": 48,
     "metadata": {},
     "output_type": "execute_result"
    }
   ],
   "source": [
    "a"
   ]
  },
  {
   "cell_type": "code",
   "execution_count": 49,
   "metadata": {},
   "outputs": [
    {
     "data": {
      "text/plain": [
       "array([ 0,  4,  8, 12, 16])"
      ]
     },
     "execution_count": 49,
     "metadata": {},
     "output_type": "execute_result"
    }
   ],
   "source": [
    "b"
   ]
  },
  {
   "cell_type": "code",
   "execution_count": 50,
   "metadata": {},
   "outputs": [],
   "source": [
    "c = a*b"
   ]
  },
  {
   "cell_type": "code",
   "execution_count": 51,
   "metadata": {},
   "outputs": [
    {
     "data": {
      "text/plain": [
       "array([[  0,   4,  16,  36,  64],\n",
       "       [  0,  24,  56,  96, 144],\n",
       "       [  0,  44,  96, 156, 224],\n",
       "       [  0,  64, 136, 216, 304]])"
      ]
     },
     "execution_count": 51,
     "metadata": {},
     "output_type": "execute_result"
    }
   ],
   "source": [
    "c"
   ]
  },
  {
   "cell_type": "code",
   "execution_count": 52,
   "metadata": {},
   "outputs": [
    {
     "data": {
      "text/plain": [
       "array([[ 0,  4,  8, 12, 16],\n",
       "       [ 0,  4,  8, 12, 16],\n",
       "       [ 0,  4,  8, 12, 16],\n",
       "       [ 0,  4,  8, 12, 16]])"
      ]
     },
     "execution_count": 52,
     "metadata": {},
     "output_type": "execute_result"
    }
   ],
   "source": [
    "np.broadcast_to(b,(4,5))  #broadcasting"
   ]
  },
  {
   "cell_type": "code",
   "execution_count": 53,
   "metadata": {},
   "outputs": [
    {
     "data": {
      "text/plain": [
       "array([[ 0,  1,  2,  3,  4],\n",
       "       [ 5,  6,  7,  8,  9],\n",
       "       [10, 11, 12, 13, 14],\n",
       "       [15, 16, 17, 18, 19]])"
      ]
     },
     "execution_count": 53,
     "metadata": {},
     "output_type": "execute_result"
    }
   ],
   "source": [
    "a"
   ]
  },
  {
   "cell_type": "code",
   "execution_count": 54,
   "metadata": {},
   "outputs": [
    {
     "data": {
      "text/plain": [
       "array([[ 0],\n",
       "       [ 5],\n",
       "       [10],\n",
       "       [15]])"
      ]
     },
     "execution_count": 54,
     "metadata": {},
     "output_type": "execute_result"
    }
   ],
   "source": [
    "c = np.arange(0,20,5).reshape(4,1)\n",
    "c"
   ]
  },
  {
   "cell_type": "code",
   "execution_count": 55,
   "metadata": {},
   "outputs": [
    {
     "data": {
      "text/plain": [
       "array([[ 0,  1,  2,  3,  4],\n",
       "       [10, 11, 12, 13, 14],\n",
       "       [20, 21, 22, 23, 24],\n",
       "       [30, 31, 32, 33, 34]])"
      ]
     },
     "execution_count": 55,
     "metadata": {},
     "output_type": "execute_result"
    }
   ],
   "source": [
    "c+a"
   ]
  },
  {
   "cell_type": "code",
   "execution_count": 56,
   "metadata": {},
   "outputs": [
    {
     "data": {
      "text/plain": [
       "array([[ 0,  0,  0,  0,  0],\n",
       "       [ 5,  5,  5,  5,  5],\n",
       "       [10, 10, 10, 10, 10],\n",
       "       [15, 15, 15, 15, 15]])"
      ]
     },
     "execution_count": 56,
     "metadata": {},
     "output_type": "execute_result"
    }
   ],
   "source": [
    "np.broadcast_to(c,(4,5))"
   ]
  },
  {
   "cell_type": "code",
   "execution_count": 57,
   "metadata": {},
   "outputs": [
    {
     "data": {
      "text/plain": [
       "array([[ 0,  5, 10, 15],\n",
       "       [20, 25, 30, 35]])"
      ]
     },
     "execution_count": 57,
     "metadata": {},
     "output_type": "execute_result"
    }
   ],
   "source": [
    "d = np.arange(0,40,5).reshape(2,4)\n",
    "d"
   ]
  },
  {
   "cell_type": "code",
   "execution_count": 58,
   "metadata": {},
   "outputs": [
    {
     "data": {
      "text/plain": [
       "array([[ 0,  1,  2,  3,  4],\n",
       "       [ 5,  6,  7,  8,  9],\n",
       "       [10, 11, 12, 13, 14],\n",
       "       [15, 16, 17, 18, 19]])"
      ]
     },
     "execution_count": 58,
     "metadata": {},
     "output_type": "execute_result"
    }
   ],
   "source": [
    "a "
   ]
  },
  {
   "cell_type": "code",
   "execution_count": 59,
   "metadata": {},
   "outputs": [
    {
     "name": "stdout",
     "output_type": "stream",
     "text": [
      "0\n",
      "1\n",
      "2\n",
      "3\n",
      "4\n",
      "5\n",
      "6\n",
      "7\n",
      "8\n",
      "9\n",
      "10\n",
      "11\n",
      "12\n",
      "13\n",
      "14\n",
      "15\n",
      "16\n",
      "17\n",
      "18\n",
      "19\n"
     ]
    }
   ],
   "source": [
    "for i in a:\n",
    "#     print(i)\n",
    "    for j in i:\n",
    "        print(j)\n"
   ]
  },
  {
   "cell_type": "code",
   "execution_count": 60,
   "metadata": {},
   "outputs": [
    {
     "data": {
      "text/plain": [
       "array([[ 0,  1,  2,  3,  4],\n",
       "       [ 5,  6,  7,  8,  9],\n",
       "       [10, 11, 12, 13, 14],\n",
       "       [15, 16, 17, 18, 19]])"
      ]
     },
     "execution_count": 60,
     "metadata": {},
     "output_type": "execute_result"
    }
   ],
   "source": [
    "a"
   ]
  },
  {
   "cell_type": "code",
   "execution_count": 61,
   "metadata": {
    "scrolled": true
   },
   "outputs": [
    {
     "name": "stdout",
     "output_type": "stream",
     "text": [
      "0,1,2,3,4,5,6,7,8,9,10,11,12,13,14,15,16,17,18,19,"
     ]
    }
   ],
   "source": [
    "for i in np.nditer(a):\n",
    "    print(i,end=',')"
   ]
  },
  {
   "cell_type": "code",
   "execution_count": 62,
   "metadata": {},
   "outputs": [
    {
     "data": {
      "text/plain": [
       "array([[ 0,  1,  2,  3,  4],\n",
       "       [ 5,  6,  7,  8,  9],\n",
       "       [10, 11, 12, 13, 14],\n",
       "       [15, 16, 17, 18, 19]])"
      ]
     },
     "execution_count": 62,
     "metadata": {},
     "output_type": "execute_result"
    }
   ],
   "source": [
    "a"
   ]
  },
  {
   "cell_type": "code",
   "execution_count": 63,
   "metadata": {},
   "outputs": [
    {
     "name": "stdout",
     "output_type": "stream",
     "text": [
      "0,5,10,15,1,6,11,16,2,7,12,17,3,8,13,18,4,9,14,19,"
     ]
    }
   ],
   "source": [
    "for i in np.nditer(a, order='F'):\n",
    "    print(i,end=',')"
   ]
  },
  {
   "cell_type": "code",
   "execution_count": 64,
   "metadata": {
    "scrolled": true
   },
   "outputs": [
    {
     "name": "stdout",
     "output_type": "stream",
     "text": [
      "[[ 0  1  2  3  4]\n",
      " [ 5  6  7  8  9]\n",
      " [10 11 12 13 14]\n",
      " [15 16 17 18 19]]\n"
     ]
    }
   ],
   "source": [
    "print(a)"
   ]
  },
  {
   "cell_type": "code",
   "execution_count": 65,
   "metadata": {},
   "outputs": [
    {
     "data": {
      "text/plain": [
       "array([30, 34, 38, 42, 46])"
      ]
     },
     "execution_count": 65,
     "metadata": {},
     "output_type": "execute_result"
    }
   ],
   "source": [
    "a.sum(axis=0)    #a.sum()"
   ]
  },
  {
   "cell_type": "code",
   "execution_count": 66,
   "metadata": {},
   "outputs": [
    {
     "data": {
      "text/plain": [
       "array([10, 35, 60, 85])"
      ]
     },
     "execution_count": 66,
     "metadata": {},
     "output_type": "execute_result"
    }
   ],
   "source": [
    "a.sum(axis=1)"
   ]
  },
  {
   "cell_type": "code",
   "execution_count": 67,
   "metadata": {},
   "outputs": [
    {
     "data": {
      "text/plain": [
       "(4, 5)"
      ]
     },
     "execution_count": 67,
     "metadata": {},
     "output_type": "execute_result"
    }
   ],
   "source": [
    "a.shape"
   ]
  },
  {
   "cell_type": "code",
   "execution_count": 68,
   "metadata": {},
   "outputs": [],
   "source": [
    "a = np.random.randint(0,100,20).reshape(4,5)\n",
    "b = np.random.randint(100,200,20).reshape(5,4)"
   ]
  },
  {
   "cell_type": "code",
   "execution_count": 69,
   "metadata": {},
   "outputs": [
    {
     "data": {
      "text/plain": [
       "array([[41,  3, 74,  7, 59],\n",
       "       [58, 69,  3, 52, 65],\n",
       "       [71, 25, 14,  4, 41],\n",
       "       [11, 51, 25, 66, 78]])"
      ]
     },
     "execution_count": 69,
     "metadata": {},
     "output_type": "execute_result"
    }
   ],
   "source": [
    "a"
   ]
  },
  {
   "cell_type": "code",
   "execution_count": 70,
   "metadata": {},
   "outputs": [
    {
     "data": {
      "text/plain": [
       "array([[196, 118, 194, 146],\n",
       "       [114, 162, 152, 179],\n",
       "       [144, 140, 177, 159],\n",
       "       [172, 188, 124, 158],\n",
       "       [140, 175, 144, 157]])"
      ]
     },
     "execution_count": 70,
     "metadata": {},
     "output_type": "execute_result"
    }
   ],
   "source": [
    "b"
   ]
  },
  {
   "cell_type": "code",
   "execution_count": 71,
   "metadata": {},
   "outputs": [],
   "source": [
    "x = a*b[:,0]"
   ]
  },
  {
   "cell_type": "code",
   "execution_count": 72,
   "metadata": {},
   "outputs": [
    {
     "data": {
      "text/plain": [
       "array([28498, 37710, 25210, 33842])"
      ]
     },
     "execution_count": 72,
     "metadata": {},
     "output_type": "execute_result"
    }
   ],
   "source": [
    "x.sum(axis=1)"
   ]
  },
  {
   "cell_type": "code",
   "execution_count": 73,
   "metadata": {},
   "outputs": [],
   "source": [
    "def matrix_mul(a,b):\n",
    "    c = np.zeros((a.shape[0],b.shape[1]))\n",
    "    for i in range(b.shape[1]):\n",
    "        x = a*b[:,i]\n",
    "        c[:,i] = x.sum(axis=1)\n",
    "    return c"
   ]
  },
  {
   "cell_type": "code",
   "execution_count": 74,
   "metadata": {
    "scrolled": true
   },
   "outputs": [
    {
     "data": {
      "text/plain": [
       "array([[28498., 27325., 30872., 28658.],\n",
       "       [37710., 39593., 38079., 39717.],\n",
       "       [25210., 22315., 26452., 24136.],\n",
       "       [33842., 39118., 33727., 37384.]])"
      ]
     },
     "execution_count": 74,
     "metadata": {},
     "output_type": "execute_result"
    }
   ],
   "source": [
    "matrix_mul(a,b)"
   ]
  },
  {
   "cell_type": "code",
   "execution_count": 75,
   "metadata": {},
   "outputs": [
    {
     "data": {
      "text/plain": [
       "array([[28498, 27325, 30872, 28658],\n",
       "       [37710, 39593, 38079, 39717],\n",
       "       [25210, 22315, 26452, 24136],\n",
       "       [33842, 39118, 33727, 37384]])"
      ]
     },
     "execution_count": 75,
     "metadata": {},
     "output_type": "execute_result"
    }
   ],
   "source": [
    "np.matmul(a,b)"
   ]
  },
  {
   "cell_type": "code",
   "execution_count": 76,
   "metadata": {},
   "outputs": [],
   "source": [
    "import numpy as np"
   ]
  },
  {
   "cell_type": "code",
   "execution_count": 77,
   "metadata": {},
   "outputs": [],
   "source": [
    "a = np.arange(0,20,1).reshape(2,2,5)"
   ]
  },
  {
   "cell_type": "code",
   "execution_count": 78,
   "metadata": {},
   "outputs": [
    {
     "data": {
      "text/plain": [
       "array([[[ 0,  1,  2,  3,  4],\n",
       "        [ 5,  6,  7,  8,  9]],\n",
       "\n",
       "       [[10, 11, 12, 13, 14],\n",
       "        [15, 16, 17, 18, 19]]])"
      ]
     },
     "execution_count": 78,
     "metadata": {},
     "output_type": "execute_result"
    }
   ],
   "source": [
    "a"
   ]
  },
  {
   "cell_type": "code",
   "execution_count": 79,
   "metadata": {},
   "outputs": [
    {
     "data": {
      "text/plain": [
       "(2, 2, 5)"
      ]
     },
     "execution_count": 79,
     "metadata": {},
     "output_type": "execute_result"
    }
   ],
   "source": [
    "a.shape"
   ]
  },
  {
   "cell_type": "code",
   "execution_count": 80,
   "metadata": {},
   "outputs": [
    {
     "data": {
      "text/plain": [
       "array([ 0,  1,  2,  3,  4,  5,  6,  7,  8,  9, 10, 11, 12, 13, 14, 15, 16,\n",
       "       17, 18, 19])"
      ]
     },
     "execution_count": 80,
     "metadata": {},
     "output_type": "execute_result"
    }
   ],
   "source": [
    "a.flatten(order='C')"
   ]
  },
  {
   "cell_type": "code",
   "execution_count": 81,
   "metadata": {},
   "outputs": [
    {
     "data": {
      "text/plain": [
       "array([ 0, 10,  5, 15,  1, 11,  6, 16,  2, 12,  7, 17,  3, 13,  8, 18,  4,\n",
       "       14,  9, 19])"
      ]
     },
     "execution_count": 81,
     "metadata": {},
     "output_type": "execute_result"
    }
   ],
   "source": [
    "a.flatten(order='F')"
   ]
  },
  {
   "cell_type": "code",
   "execution_count": 82,
   "metadata": {},
   "outputs": [
    {
     "data": {
      "text/plain": [
       "array([[[ 0,  1,  2,  3,  4],\n",
       "        [ 5,  6,  7,  8,  9],\n",
       "        [10, 11, 12, 13, 14]],\n",
       "\n",
       "       [[15, 16, 17, 18, 19],\n",
       "        [20, 21, 22, 23, 24],\n",
       "        [25, 26, 27, 28, 29]]])"
      ]
     },
     "execution_count": 82,
     "metadata": {},
     "output_type": "execute_result"
    }
   ],
   "source": [
    "a = np.arange(0,30).reshape(2,3,5)\n",
    "a"
   ]
  },
  {
   "cell_type": "code",
   "execution_count": 83,
   "metadata": {},
   "outputs": [
    {
     "data": {
      "text/plain": [
       "(2, 3, 5)"
      ]
     },
     "execution_count": 83,
     "metadata": {},
     "output_type": "execute_result"
    }
   ],
   "source": [
    "a.shape"
   ]
  },
  {
   "cell_type": "code",
   "execution_count": 84,
   "metadata": {},
   "outputs": [
    {
     "data": {
      "text/plain": [
       "(5, 3, 2)"
      ]
     },
     "execution_count": 84,
     "metadata": {},
     "output_type": "execute_result"
    }
   ],
   "source": [
    "a.transpose().shape"
   ]
  },
  {
   "cell_type": "code",
   "execution_count": 85,
   "metadata": {},
   "outputs": [
    {
     "data": {
      "text/plain": [
       "(2, 3, 5)"
      ]
     },
     "execution_count": 85,
     "metadata": {},
     "output_type": "execute_result"
    }
   ],
   "source": [
    "a.shape"
   ]
  },
  {
   "cell_type": "code",
   "execution_count": 86,
   "metadata": {},
   "outputs": [
    {
     "data": {
      "text/plain": [
       "(5, 2, 3)"
      ]
     },
     "execution_count": 86,
     "metadata": {},
     "output_type": "execute_result"
    }
   ],
   "source": [
    "a.transpose(2,0,1).shape"
   ]
  },
  {
   "cell_type": "code",
   "execution_count": 87,
   "metadata": {},
   "outputs": [
    {
     "data": {
      "text/plain": [
       "(2, 3, 5)"
      ]
     },
     "execution_count": 87,
     "metadata": {},
     "output_type": "execute_result"
    }
   ],
   "source": [
    "a.shape"
   ]
  },
  {
   "cell_type": "code",
   "execution_count": 88,
   "metadata": {},
   "outputs": [
    {
     "data": {
      "text/plain": [
       "(5, 3, 2)"
      ]
     },
     "execution_count": 88,
     "metadata": {},
     "output_type": "execute_result"
    }
   ],
   "source": [
    "a.T.shape"
   ]
  },
  {
   "cell_type": "code",
   "execution_count": 89,
   "metadata": {},
   "outputs": [
    {
     "data": {
      "text/plain": [
       "(2, 3, 5)"
      ]
     },
     "execution_count": 89,
     "metadata": {},
     "output_type": "execute_result"
    }
   ],
   "source": [
    "a.shape"
   ]
  },
  {
   "cell_type": "code",
   "execution_count": 90,
   "metadata": {},
   "outputs": [
    {
     "data": {
      "text/plain": [
       "(3, 2, 5)"
      ]
     },
     "execution_count": 90,
     "metadata": {},
     "output_type": "execute_result"
    }
   ],
   "source": [
    "np.rollaxis(a,1).shape"
   ]
  },
  {
   "cell_type": "code",
   "execution_count": 91,
   "metadata": {},
   "outputs": [
    {
     "data": {
      "text/plain": [
       "(5, 2, 3)"
      ]
     },
     "execution_count": 91,
     "metadata": {},
     "output_type": "execute_result"
    }
   ],
   "source": [
    "np.rollaxis(a,2).shape"
   ]
  },
  {
   "cell_type": "code",
   "execution_count": 92,
   "metadata": {},
   "outputs": [
    {
     "data": {
      "text/plain": [
       "(2, 3, 5)"
      ]
     },
     "execution_count": 92,
     "metadata": {},
     "output_type": "execute_result"
    }
   ],
   "source": [
    "a.shape"
   ]
  },
  {
   "cell_type": "code",
   "execution_count": 93,
   "metadata": {},
   "outputs": [
    {
     "data": {
      "text/plain": [
       "(2, 5, 3)"
      ]
     },
     "execution_count": 93,
     "metadata": {},
     "output_type": "execute_result"
    }
   ],
   "source": [
    "np.swapaxes(a,1,2).shape"
   ]
  },
  {
   "cell_type": "code",
   "execution_count": 94,
   "metadata": {},
   "outputs": [
    {
     "data": {
      "text/plain": [
       "array([[ 0,  1,  2,  3,  4],\n",
       "       [ 5,  6,  7,  8,  9],\n",
       "       [10, 11, 12, 13, 14],\n",
       "       [15, 16, 17, 18, 19]])"
      ]
     },
     "execution_count": 94,
     "metadata": {},
     "output_type": "execute_result"
    }
   ],
   "source": [
    "a = np.arange(0,20).reshape(4,5)\n",
    "a"
   ]
  },
  {
   "cell_type": "code",
   "execution_count": 95,
   "metadata": {},
   "outputs": [
    {
     "data": {
      "text/plain": [
       "array([[ 0,  6, 12, 18, 24]])"
      ]
     },
     "execution_count": 95,
     "metadata": {},
     "output_type": "execute_result"
    }
   ],
   "source": [
    "b = np.arange(0,30,6).reshape(1,5)\n",
    "b"
   ]
  },
  {
   "cell_type": "code",
   "execution_count": 96,
   "metadata": {},
   "outputs": [
    {
     "data": {
      "text/plain": [
       "array([[ 0,  1,  2,  3,  4],\n",
       "       [ 5,  6,  7,  8,  9],\n",
       "       [10, 11, 12, 13, 14],\n",
       "       [15, 16, 17, 18, 19],\n",
       "       [ 0,  6, 12, 18, 24]])"
      ]
     },
     "execution_count": 96,
     "metadata": {},
     "output_type": "execute_result"
    }
   ],
   "source": [
    "np.concatenate((a,b), axis=0)"
   ]
  },
  {
   "cell_type": "code",
   "execution_count": 97,
   "metadata": {},
   "outputs": [
    {
     "data": {
      "text/plain": [
       "array([[ 0,  1,  2,  3,  4],\n",
       "       [ 5,  6,  7,  8,  9],\n",
       "       [10, 11, 12, 13, 14],\n",
       "       [15, 16, 17, 18, 19],\n",
       "       [ 0,  6, 12, 18, 24]])"
      ]
     },
     "execution_count": 97,
     "metadata": {},
     "output_type": "execute_result"
    }
   ],
   "source": [
    "np.vstack((a,b))"
   ]
  },
  {
   "cell_type": "code",
   "execution_count": 98,
   "metadata": {},
   "outputs": [],
   "source": [
    "c = np.arange(0,20,5).reshape(4,1)"
   ]
  },
  {
   "cell_type": "code",
   "execution_count": 99,
   "metadata": {},
   "outputs": [
    {
     "data": {
      "text/plain": [
       "array([[ 0,  1,  2,  3,  4],\n",
       "       [ 5,  6,  7,  8,  9],\n",
       "       [10, 11, 12, 13, 14],\n",
       "       [15, 16, 17, 18, 19]])"
      ]
     },
     "execution_count": 99,
     "metadata": {},
     "output_type": "execute_result"
    }
   ],
   "source": [
    "a"
   ]
  },
  {
   "cell_type": "code",
   "execution_count": 100,
   "metadata": {},
   "outputs": [
    {
     "data": {
      "text/plain": [
       "array([[ 0],\n",
       "       [ 5],\n",
       "       [10],\n",
       "       [15]])"
      ]
     },
     "execution_count": 100,
     "metadata": {},
     "output_type": "execute_result"
    }
   ],
   "source": [
    "c"
   ]
  },
  {
   "cell_type": "code",
   "execution_count": 101,
   "metadata": {},
   "outputs": [
    {
     "data": {
      "text/plain": [
       "array([[ 0,  0,  1,  2,  3,  4],\n",
       "       [ 5,  5,  6,  7,  8,  9],\n",
       "       [10, 10, 11, 12, 13, 14],\n",
       "       [15, 15, 16, 17, 18, 19]])"
      ]
     },
     "execution_count": 101,
     "metadata": {},
     "output_type": "execute_result"
    }
   ],
   "source": [
    "np.concatenate((c,a), axis=1)"
   ]
  },
  {
   "cell_type": "code",
   "execution_count": 102,
   "metadata": {},
   "outputs": [
    {
     "data": {
      "text/plain": [
       "array([[ 0,  1,  2,  3,  4,  0],\n",
       "       [ 5,  6,  7,  8,  9,  5],\n",
       "       [10, 11, 12, 13, 14, 10],\n",
       "       [15, 16, 17, 18, 19, 15]])"
      ]
     },
     "execution_count": 102,
     "metadata": {},
     "output_type": "execute_result"
    }
   ],
   "source": [
    "np.hstack((a,c))"
   ]
  },
  {
   "cell_type": "code",
   "execution_count": 103,
   "metadata": {},
   "outputs": [
    {
     "data": {
      "text/plain": [
       "array([[ 0,  1,  2,  3,  4],\n",
       "       [ 5,  6,  7,  8,  9],\n",
       "       [10, 11, 12, 13, 14],\n",
       "       [15, 16, 17, 18, 19]])"
      ]
     },
     "execution_count": 103,
     "metadata": {},
     "output_type": "execute_result"
    }
   ],
   "source": [
    "a"
   ]
  },
  {
   "cell_type": "code",
   "execution_count": 104,
   "metadata": {},
   "outputs": [
    {
     "data": {
      "text/plain": [
       "[array([[0, 1, 2, 3, 4],\n",
       "        [5, 6, 7, 8, 9]]), array([[10, 11, 12, 13, 14],\n",
       "        [15, 16, 17, 18, 19]])]"
      ]
     },
     "execution_count": 104,
     "metadata": {},
     "output_type": "execute_result"
    }
   ],
   "source": [
    "np.vsplit(a,2)"
   ]
  },
  {
   "cell_type": "code",
   "execution_count": 105,
   "metadata": {},
   "outputs": [],
   "source": [
    "sp = np.hsplit(a,5)"
   ]
  },
  {
   "cell_type": "code",
   "execution_count": 106,
   "metadata": {},
   "outputs": [
    {
     "data": {
      "text/plain": [
       "list"
      ]
     },
     "execution_count": 106,
     "metadata": {},
     "output_type": "execute_result"
    }
   ],
   "source": [
    "type(sp)"
   ]
  },
  {
   "cell_type": "code",
   "execution_count": 107,
   "metadata": {},
   "outputs": [
    {
     "name": "stdout",
     "output_type": "stream",
     "text": [
      "[[ 0]\n",
      " [ 5]\n",
      " [10]\n",
      " [15]] \n",
      "\n",
      "[[ 1]\n",
      " [ 6]\n",
      " [11]\n",
      " [16]] \n",
      "\n",
      "[[ 2]\n",
      " [ 7]\n",
      " [12]\n",
      " [17]] \n",
      "\n",
      "[[ 3]\n",
      " [ 8]\n",
      " [13]\n",
      " [18]] \n",
      "\n",
      "[[ 4]\n",
      " [ 9]\n",
      " [14]\n",
      " [19]] \n",
      "\n"
     ]
    }
   ],
   "source": [
    "for i in sp:\n",
    "    print(i,'\\n')\n"
   ]
  },
  {
   "cell_type": "code",
   "execution_count": 108,
   "metadata": {},
   "outputs": [
    {
     "data": {
      "text/plain": [
       "array([[ 0,  1,  2,  3,  4],\n",
       "       [ 5,  6,  7,  8,  9],\n",
       "       [10, 11, 12, 13, 14],\n",
       "       [15, 16, 17, 18, 19]])"
      ]
     },
     "execution_count": 108,
     "metadata": {},
     "output_type": "execute_result"
    }
   ],
   "source": [
    "a"
   ]
  },
  {
   "cell_type": "code",
   "execution_count": 109,
   "metadata": {},
   "outputs": [
    {
     "data": {
      "text/plain": [
       "9.5"
      ]
     },
     "execution_count": 109,
     "metadata": {},
     "output_type": "execute_result"
    }
   ],
   "source": [
    "a.mean()"
   ]
  },
  {
   "cell_type": "code",
   "execution_count": 110,
   "metadata": {},
   "outputs": [
    {
     "data": {
      "text/plain": [
       "array([ 7.5,  8.5,  9.5, 10.5, 11.5])"
      ]
     },
     "execution_count": 110,
     "metadata": {},
     "output_type": "execute_result"
    }
   ],
   "source": [
    "a.mean(axis=0)"
   ]
  },
  {
   "cell_type": "code",
   "execution_count": 111,
   "metadata": {},
   "outputs": [
    {
     "data": {
      "text/plain": [
       "array([ 2.,  7., 12., 17.])"
      ]
     },
     "execution_count": 111,
     "metadata": {},
     "output_type": "execute_result"
    }
   ],
   "source": [
    "a.mean(axis=1)"
   ]
  },
  {
   "cell_type": "code",
   "execution_count": 112,
   "metadata": {},
   "outputs": [
    {
     "data": {
      "text/plain": [
       "33.25"
      ]
     },
     "execution_count": 112,
     "metadata": {},
     "output_type": "execute_result"
    }
   ],
   "source": [
    "a.var()"
   ]
  },
  {
   "cell_type": "code",
   "execution_count": 113,
   "metadata": {},
   "outputs": [
    {
     "data": {
      "text/plain": [
       "5.766281297335398"
      ]
     },
     "execution_count": 113,
     "metadata": {},
     "output_type": "execute_result"
    }
   ],
   "source": [
    "a.std()"
   ]
  },
  {
   "cell_type": "code",
   "execution_count": 114,
   "metadata": {},
   "outputs": [
    {
     "data": {
      "text/plain": [
       "array([[ 0.        ,  0.84147098,  0.90929743,  0.14112001, -0.7568025 ],\n",
       "       [-0.95892427, -0.2794155 ,  0.6569866 ,  0.98935825,  0.41211849],\n",
       "       [-0.54402111, -0.99999021, -0.53657292,  0.42016704,  0.99060736],\n",
       "       [ 0.65028784, -0.28790332, -0.96139749, -0.75098725,  0.14987721]])"
      ]
     },
     "execution_count": 114,
     "metadata": {},
     "output_type": "execute_result"
    }
   ],
   "source": [
    "np.sin(a)"
   ]
  },
  {
   "cell_type": "code",
   "execution_count": 115,
   "metadata": {},
   "outputs": [
    {
     "data": {
      "text/plain": [
       "4.75"
      ]
     },
     "execution_count": 115,
     "metadata": {},
     "output_type": "execute_result"
    }
   ],
   "source": [
    "np.percentile(a,25)"
   ]
  },
  {
   "cell_type": "code",
   "execution_count": 116,
   "metadata": {},
   "outputs": [
    {
     "data": {
      "text/plain": [
       "array([[   0,    1,    8,   27,   64],\n",
       "       [ 125,  216,  343,  512,  729],\n",
       "       [1000, 1331, 1728, 2197, 2744],\n",
       "       [3375, 4096, 4913, 5832, 6859]])"
      ]
     },
     "execution_count": 116,
     "metadata": {},
     "output_type": "execute_result"
    }
   ],
   "source": [
    "np.power(a,3)"
   ]
  },
  {
   "cell_type": "code",
   "execution_count": 117,
   "metadata": {},
   "outputs": [
    {
     "data": {
      "text/plain": [
       "array([[ 0,  1,  2,  3,  4],\n",
       "       [ 5,  6,  7,  8,  9],\n",
       "       [10, 11, 12, 13, 14],\n",
       "       [15, 16, 17, 18, 19]])"
      ]
     },
     "execution_count": 117,
     "metadata": {},
     "output_type": "execute_result"
    }
   ],
   "source": [
    "a"
   ]
  },
  {
   "cell_type": "code",
   "execution_count": 118,
   "metadata": {},
   "outputs": [],
   "source": [
    "x = a"
   ]
  },
  {
   "cell_type": "code",
   "execution_count": 119,
   "metadata": {},
   "outputs": [
    {
     "data": {
      "text/plain": [
       "array([[ 0,  1,  2,  3,  4],\n",
       "       [ 5,  6,  7,  8,  9],\n",
       "       [10, 11, 12, 13, 14],\n",
       "       [15, 16, 17, 18, 19]])"
      ]
     },
     "execution_count": 119,
     "metadata": {},
     "output_type": "execute_result"
    }
   ],
   "source": [
    "x"
   ]
  },
  {
   "cell_type": "code",
   "execution_count": 120,
   "metadata": {},
   "outputs": [],
   "source": [
    "x.shape = (5,2,2)"
   ]
  },
  {
   "cell_type": "code",
   "execution_count": 121,
   "metadata": {},
   "outputs": [
    {
     "data": {
      "text/plain": [
       "(5, 2, 2)"
      ]
     },
     "execution_count": 121,
     "metadata": {},
     "output_type": "execute_result"
    }
   ],
   "source": [
    "a.shape"
   ]
  },
  {
   "cell_type": "code",
   "execution_count": 122,
   "metadata": {},
   "outputs": [],
   "source": [
    "a.resize(4,5)"
   ]
  },
  {
   "cell_type": "code",
   "execution_count": 123,
   "metadata": {},
   "outputs": [
    {
     "data": {
      "text/plain": [
       "(4, 5)"
      ]
     },
     "execution_count": 123,
     "metadata": {},
     "output_type": "execute_result"
    }
   ],
   "source": [
    "a.shape"
   ]
  },
  {
   "cell_type": "code",
   "execution_count": 124,
   "metadata": {},
   "outputs": [
    {
     "data": {
      "text/plain": [
       "array([[ 0,  1,  2,  3,  4],\n",
       "       [ 5,  6,  7,  8,  9],\n",
       "       [10, 11, 12, 13, 14],\n",
       "       [15, 16, 17, 18, 19]])"
      ]
     },
     "execution_count": 124,
     "metadata": {},
     "output_type": "execute_result"
    }
   ],
   "source": [
    "a"
   ]
  },
  {
   "cell_type": "code",
   "execution_count": 125,
   "metadata": {},
   "outputs": [],
   "source": [
    "x = a.view()"
   ]
  },
  {
   "cell_type": "code",
   "execution_count": 126,
   "metadata": {},
   "outputs": [
    {
     "data": {
      "text/plain": [
       "array([[ 0,  1,  2,  3,  4],\n",
       "       [ 5,  6,  7,  8,  9],\n",
       "       [10, 11, 12, 13, 14],\n",
       "       [15, 16, 17, 18, 19]])"
      ]
     },
     "execution_count": 126,
     "metadata": {},
     "output_type": "execute_result"
    }
   ],
   "source": [
    "x"
   ]
  },
  {
   "cell_type": "code",
   "execution_count": 127,
   "metadata": {},
   "outputs": [],
   "source": [
    "x.shape = 2,2,5"
   ]
  },
  {
   "cell_type": "code",
   "execution_count": 128,
   "metadata": {},
   "outputs": [
    {
     "data": {
      "text/plain": [
       "array([[[ 0,  1,  2,  3,  4],\n",
       "        [ 5,  6,  7,  8,  9]],\n",
       "\n",
       "       [[10, 11, 12, 13, 14],\n",
       "        [15, 16, 17, 18, 19]]])"
      ]
     },
     "execution_count": 128,
     "metadata": {},
     "output_type": "execute_result"
    }
   ],
   "source": [
    "x"
   ]
  },
  {
   "cell_type": "code",
   "execution_count": 129,
   "metadata": {},
   "outputs": [
    {
     "data": {
      "text/plain": [
       "(4, 5)"
      ]
     },
     "execution_count": 129,
     "metadata": {},
     "output_type": "execute_result"
    }
   ],
   "source": [
    "a.shape"
   ]
  },
  {
   "cell_type": "code",
   "execution_count": 130,
   "metadata": {},
   "outputs": [
    {
     "data": {
      "text/plain": [
       "array([[[ 0,  1,  2,  3,  4],\n",
       "        [ 5,  6,  7,  8,  9]],\n",
       "\n",
       "       [[10, 11, 12, 13, 14],\n",
       "        [15, 16, 17, 18, 19]]])"
      ]
     },
     "execution_count": 130,
     "metadata": {},
     "output_type": "execute_result"
    }
   ],
   "source": [
    "x"
   ]
  },
  {
   "cell_type": "code",
   "execution_count": 131,
   "metadata": {},
   "outputs": [
    {
     "data": {
      "text/plain": [
       "array([[ 0,  1,  2,  3,  4],\n",
       "       [ 5,  6,  7,  8,  9],\n",
       "       [10, 11, 12, 13, 14],\n",
       "       [15, 16, 17, 18, 19]])"
      ]
     },
     "execution_count": 131,
     "metadata": {},
     "output_type": "execute_result"
    }
   ],
   "source": [
    "a"
   ]
  },
  {
   "cell_type": "code",
   "execution_count": 132,
   "metadata": {},
   "outputs": [],
   "source": [
    "x = a.copy()"
   ]
  },
  {
   "cell_type": "code",
   "execution_count": 133,
   "metadata": {},
   "outputs": [
    {
     "data": {
      "text/plain": [
       "array([[ 0,  1,  2,  3,  4],\n",
       "       [ 5,  6,  7,  8,  9],\n",
       "       [10, 11, 12, 13, 14],\n",
       "       [15, 16, 17, 18, 19]])"
      ]
     },
     "execution_count": 133,
     "metadata": {},
     "output_type": "execute_result"
    }
   ],
   "source": [
    "x"
   ]
  },
  {
   "cell_type": "code",
   "execution_count": 134,
   "metadata": {},
   "outputs": [],
   "source": [
    "x.shape = [5,4]"
   ]
  },
  {
   "cell_type": "code",
   "execution_count": 135,
   "metadata": {},
   "outputs": [
    {
     "data": {
      "text/plain": [
       "array([[ 0,  1,  2,  3],\n",
       "       [ 4,  5,  6,  7],\n",
       "       [ 8,  9, 10, 11],\n",
       "       [12, 13, 14, 15],\n",
       "       [16, 17, 18, 19]])"
      ]
     },
     "execution_count": 135,
     "metadata": {},
     "output_type": "execute_result"
    }
   ],
   "source": [
    "x"
   ]
  },
  {
   "cell_type": "code",
   "execution_count": 136,
   "metadata": {},
   "outputs": [
    {
     "data": {
      "text/plain": [
       "(4, 5)"
      ]
     },
     "execution_count": 136,
     "metadata": {},
     "output_type": "execute_result"
    }
   ],
   "source": [
    "a.shape"
   ]
  },
  {
   "cell_type": "code",
   "execution_count": null,
   "metadata": {},
   "outputs": [],
   "source": []
  },
  {
   "cell_type": "code",
   "execution_count": 137,
   "metadata": {},
   "outputs": [],
   "source": [
    "im = np.random.randint(1,256,784).reshape(28,28)"
   ]
  },
  {
   "cell_type": "code",
   "execution_count": 138,
   "metadata": {},
   "outputs": [
    {
     "data": {
      "text/plain": [
       "<matplotlib.image.AxesImage at 0x7fce1d8358d0>"
      ]
     },
     "execution_count": 138,
     "metadata": {},
     "output_type": "execute_result"
    }
   ],
   "source": [
    "import matplotlib.pyplot as plt \n",
    "plt.imshow(im, cmap='gray')"
   ]
  },
  {
   "cell_type": "code",
   "execution_count": 139,
   "metadata": {},
   "outputs": [],
   "source": [
    "im[im>128] = 1\n",
    "im[im != 1] = 0"
   ]
  },
  {
   "cell_type": "code",
   "execution_count": 140,
   "metadata": {},
   "outputs": [
    {
     "data": {
      "text/plain": [
       "<matplotlib.image.AxesImage at 0x7fce1b0964d0>"
      ]
     },
     "execution_count": 140,
     "metadata": {},
     "output_type": "execute_result"
    },
    {
     "data": {
      "image/png": "[encoded data removed]",
      "text/plain": [
       "<Figure size 432x288 with 1 Axes>"
      ]
     },
     "metadata": {
      "needs_background": "light"
     },
     "output_type": "display_data"
    }
   ],
   "source": [
    "plt.imshow(im, cmap='gray')"
   ]
  },
  {
   "cell_type": "code",
   "execution_count": 141,
   "metadata": {},
   "outputs": [],
   "source": [
    "im = np.random.randint(1,256,784).reshape(28,28)"
   ]
  },
  {
   "cell_type": "code",
   "execution_count": 142,
   "metadata": {},
   "outputs": [
    {
     "data": {
      "text/plain": [
       "array([[231, 181, 203, 235, 150,  48, 221, 144,  82, 153,  12, 174, 154,\n",
       "        129, 124,  79, 231, 233, 150, 255, 155, 210, 192,  55, 252, 203,\n",
       "        209,  64],\n",
       "       [ 67, 225, 155, 112, 150, 158, 219,  56, 134, 145,  71,  72, 123,\n",
       "         70,  14, 187,  78,  72, 239, 199, 236,  38, 202, 155, 119, 125,\n",
       "         98, 227],\n",
       "       [  4, 177, 137,  18,  88, 166, 105,  17, 117, 209,  49,  60, 160,\n",
       "        228,  71, 157,  86, 135, 236,  26, 126,   5,  32, 177, 199,  89,\n",
       "        215,   6],\n",
       "       [142, 151,  27,  92,  67,  71, 188, 226,  37, 161,  80, 123,  44,\n",
       "         16, 167,  88,  43, 165, 170, 124,  85,  52,  91, 130, 252,  83,\n",
       "         77, 100],\n",
       "       [131, 197,  91, 138,  87, 191, 229,  19,  76, 205,  74,  59, 161,\n",
       "        104,  66,  14, 139, 240, 179, 167, 192, 212,  72,  26, 204, 145,\n",
       "        249, 170],\n",
       "       [108, 136,  74, 153, 230,  15, 117, 188, 200, 131, 220,  11, 158,\n",
       "          6, 112, 110, 218,  63, 139,  82, 251,  63, 254, 150,  72, 169,\n",
       "        171,   5],\n",
       "       [178, 234,  17, 216,  23, 101, 140,  11, 178, 222,   5, 162, 165,\n",
       "        196, 242,  30,  10, 151, 156, 186, 174,  95, 106, 247, 220,  74,\n",
       "        231,  50],\n",
       "       [ 70, 229, 122, 142,  42, 186, 246, 213,  61,  56,  28,  97, 131,\n",
       "        135, 124,  50,  82, 107, 130,  22, 169,  28,  41, 129, 209,  75,\n",
       "        150,  19],\n",
       "       [157, 147, 165, 216, 171, 127, 206, 204, 196, 122, 215,  92,  50,\n",
       "        178, 152, 175, 144, 233, 123,  70, 100,  32,  35,  38,  66, 132,\n",
       "         40, 249],\n",
       "       [ 47, 173, 116,  91, 182, 130, 223,  52, 150, 189, 146, 200,  95,\n",
       "          8, 162,  69, 237, 184,  32, 234,  37, 200, 140,  82, 111, 180,\n",
       "        210,  23],\n",
       "       [ 51,  81,  81, 227, 215, 125,  47, 199, 225, 193, 238,  54,  82,\n",
       "        168, 192, 214,  38, 116, 135,  63, 203, 133, 251, 250,  38,  65,\n",
       "        178,  92],\n",
       "       [154, 174, 137,  92, 121, 130, 107,  74,  44, 201, 174, 176,  38,\n",
       "         66, 157,  80, 156,  26, 209, 216, 116,  52, 215, 130, 221, 125,\n",
       "        101, 139],\n",
       "       [ 86, 163, 233, 183,  35,  98,  65,  37,  26, 250, 148, 238, 253,\n",
       "         32,  22, 131, 119, 188,  57, 224,  82, 231, 248, 255,  95,  42,\n",
       "        176, 221],\n",
       "       [119, 204, 238, 151, 171,  10, 214,   4, 251,  13,   7,  27, 214,\n",
       "        213, 129, 204, 122, 179, 227, 147, 235,  50, 154, 211, 227, 185,\n",
       "        198, 137],\n",
       "       [ 43,  96, 143, 195,  10, 133,   5, 150, 199,  96, 200, 192,  59,\n",
       "        128,  10,  92, 128, 194,  39, 128, 247,  57, 188, 200, 255, 152,\n",
       "        182, 201],\n",
       "       [215,  73,  11, 103, 111, 161, 213,  82,  46, 132, 103, 206, 157,\n",
       "        139, 169,  86,  34, 176,  97, 102,  18, 167, 113, 203,  56, 226,\n",
       "        131, 119],\n",
       "       [ 47, 170, 147, 112, 154, 207,  91,  74,  83, 172, 194, 128, 184,\n",
       "        170, 244,  77,  72,  91,  36, 223,   7, 203, 136,  65, 245, 210,\n",
       "        127, 231],\n",
       "       [ 23,  77, 155, 143,  33, 108, 207,  65, 237, 216, 173,  87,  40,\n",
       "        205, 132, 244,  57, 154,  37, 144, 214, 146, 174,   2, 149,   7,\n",
       "         76,  47],\n",
       "       [176, 180,  68,  58, 220, 237, 232, 171, 176, 135, 111,  39,  79,\n",
       "         45, 193, 118,  84,  47,  57,  91, 250, 192, 239,  60, 251,  55,\n",
       "        154, 129],\n",
       "       [212, 175, 217, 166, 241, 138,  69, 246, 180,   5,  67, 150, 152,\n",
       "        107,  75,  90, 132, 159,  16,  46,  21, 228, 247,  84, 138,  34,\n",
       "         20,  58],\n",
       "       [107, 183,  51, 179, 199,  19, 201,  31,  22,   4, 196, 178, 136,\n",
       "        114, 145,  59, 140, 102, 159,  28, 248, 231,  11, 122, 255, 128,\n",
       "        142,  86],\n",
       "       [237, 183,  91, 197, 242,  55,  21, 222, 180,  93,  69, 161, 102,\n",
       "        173, 115, 241,  31,  49,  53, 185, 241, 135, 214, 148,  47, 249,\n",
       "         14, 248],\n",
       "       [226,  40,  61,  54, 154, 121, 238, 127,  52,  71, 225,  91,  96,\n",
       "        142,  35,  48, 181,  65,  65,  70, 224,  72, 250, 251, 158, 106,\n",
       "        211,  67],\n",
       "       [ 87, 252, 127, 216,  97, 211,   5, 205, 165, 147, 115,  59, 104,\n",
       "        208,  22, 129,   8, 225,   5,   9,  39,  82,  22, 239, 209, 236,\n",
       "         90, 201],\n",
       "       [ 30, 165,  96, 157, 138, 151, 113,  91, 248, 114, 141,  45, 116,\n",
       "        201, 111, 113,   8,   8, 131, 240,  17, 151,  21, 165, 136,  17,\n",
       "        144, 248],\n",
       "       [222,  48,  22, 177, 186, 232, 202, 226, 140,  87, 174, 158, 117,\n",
       "        100, 237, 255,  82, 247,  55, 233, 192,  11, 212,  92, 159, 100,\n",
       "        249,   9],\n",
       "       [ 88,  52,  79, 225, 120,  46, 234, 195, 212, 151, 240, 182,  38,\n",
       "         56, 129,  70,  99,  35,  22,  24,  10, 214,  51, 229, 180, 146,\n",
       "        184,   2],\n",
       "       [252,  37, 159,  56, 201, 142, 161,  74, 212,  29, 217, 247,  82,\n",
       "        145, 196, 186, 156, 145, 243, 163, 127, 234, 162, 160,  32, 242,\n",
       "         12,  33]])"
      ]
     },
     "execution_count": 142,
     "metadata": {},
     "output_type": "execute_result"
    }
   ],
   "source": [
    "im"
   ]
  },
  {
   "cell_type": "code",
   "execution_count": 143,
   "metadata": {},
   "outputs": [],
   "source": [
    "im = im/16"
   ]
  },
  {
   "cell_type": "code",
   "execution_count": 144,
   "metadata": {},
   "outputs": [
    {
     "data": {
      "text/plain": [
       "array([[14.4375, 11.3125, 12.6875, 14.6875,  9.375 ,  3.    , 13.8125,\n",
       "         9.    ,  5.125 ,  9.5625,  0.75  , 10.875 ,  9.625 ,  8.0625,\n",
       "         7.75  ,  4.9375, 14.4375, 14.5625,  9.375 , 15.9375,  9.6875,\n",
       "        13.125 , 12.    ,  3.4375, 15.75  , 12.6875, 13.0625,  4.    ],\n",
       "       [ 4.1875, 14.0625,  9.6875,  7.    ,  9.375 ,  9.875 , 13.6875,\n",
       "         3.5   ,  8.375 ,  9.0625,  4.4375,  4.5   ,  7.6875,  4.375 ,\n",
       "         0.875 , 11.6875,  4.875 ,  4.5   , 14.9375, 12.4375, 14.75  ,\n",
       "         2.375 , 12.625 ,  9.6875,  7.4375,  7.8125,  6.125 , 14.1875],\n",
       "       [ 0.25  , 11.0625,  8.5625,  1.125 ,  5.5   , 10.375 ,  6.5625,\n",
       "         1.0625,  7.3125, 13.0625,  3.0625,  3.75  , 10.    , 14.25  ,\n",
       "         4.4375,  9.8125,  5.375 ,  8.4375, 14.75  ,  1.625 ,  7.875 ,\n",
       "         0.3125,  2.    , 11.0625, 12.4375,  5.5625, 13.4375,  0.375 ],\n",
       "       [ 8.875 ,  9.4375,  1.6875,  5.75  ,  4.1875,  4.4375, 11.75  ,\n",
       "        14.125 ,  2.3125, 10.0625,  5.    ,  7.6875,  2.75  ,  1.    ,\n",
       "        10.4375,  5.5   ,  2.6875, 10.3125, 10.625 ,  7.75  ,  5.3125,\n",
       "         3.25  ,  5.6875,  8.125 , 15.75  ,  5.1875,  4.8125,  6.25  ],\n",
       "       [ 8.1875, 12.3125,  5.6875,  8.625 ,  5.4375, 11.9375, 14.3125,\n",
       "         1.1875,  4.75  , 12.8125,  4.625 ,  3.6875, 10.0625,  6.5   ,\n",
       "         4.125 ,  0.875 ,  8.6875, 15.    , 11.1875, 10.4375, 12.    ,\n",
       "        13.25  ,  4.5   ,  1.625 , 12.75  ,  9.0625, 15.5625, 10.625 ],\n",
       "       [ 6.75  ,  8.5   ,  4.625 ,  9.5625, 14.375 ,  0.9375,  7.3125,\n",
       "        11.75  , 12.5   ,  8.1875, 13.75  ,  0.6875,  9.875 ,  0.375 ,\n",
       "         7.    ,  6.875 , 13.625 ,  3.9375,  8.6875,  5.125 , 15.6875,\n",
       "         3.9375, 15.875 ,  9.375 ,  4.5   , 10.5625, 10.6875,  0.3125],\n",
       "       [11.125 , 14.625 ,  1.0625, 13.5   ,  1.4375,  6.3125,  8.75  ,\n",
       "         0.6875, 11.125 , 13.875 ,  0.3125, 10.125 , 10.3125, 12.25  ,\n",
       "        15.125 ,  1.875 ,  0.625 ,  9.4375,  9.75  , 11.625 , 10.875 ,\n",
       "         5.9375,  6.625 , 15.4375, 13.75  ,  4.625 , 14.4375,  3.125 ],\n",
       "       [ 4.375 , 14.3125,  7.625 ,  8.875 ,  2.625 , 11.625 , 15.375 ,\n",
       "        13.3125,  3.8125,  3.5   ,  1.75  ,  6.0625,  8.1875,  8.4375,\n",
       "         7.75  ,  3.125 ,  5.125 ,  6.6875,  8.125 ,  1.375 , 10.5625,\n",
       "         1.75  ,  2.5625,  8.0625, 13.0625,  4.6875,  9.375 ,  1.1875],\n",
       "       [ 9.8125,  9.1875, 10.3125, 13.5   , 10.6875,  7.9375, 12.875 ,\n",
       "        12.75  , 12.25  ,  7.625 , 13.4375,  5.75  ,  3.125 , 11.125 ,\n",
       "         9.5   , 10.9375,  9.    , 14.5625,  7.6875,  4.375 ,  6.25  ,\n",
       "         2.    ,  2.1875,  2.375 ,  4.125 ,  8.25  ,  2.5   , 15.5625],\n",
       "       [ 2.9375, 10.8125,  7.25  ,  5.6875, 11.375 ,  8.125 , 13.9375,\n",
       "         3.25  ,  9.375 , 11.8125,  9.125 , 12.5   ,  5.9375,  0.5   ,\n",
       "        10.125 ,  4.3125, 14.8125, 11.5   ,  2.    , 14.625 ,  2.3125,\n",
       "        12.5   ,  8.75  ,  5.125 ,  6.9375, 11.25  , 13.125 ,  1.4375],\n",
       "       [ 3.1875,  5.0625,  5.0625, 14.1875, 13.4375,  7.8125,  2.9375,\n",
       "        12.4375, 14.0625, 12.0625, 14.875 ,  3.375 ,  5.125 , 10.5   ,\n",
       "        12.    , 13.375 ,  2.375 ,  7.25  ,  8.4375,  3.9375, 12.6875,\n",
       "         8.3125, 15.6875, 15.625 ,  2.375 ,  4.0625, 11.125 ,  5.75  ],\n",
       "       [ 9.625 , 10.875 ,  8.5625,  5.75  ,  7.5625,  8.125 ,  6.6875,\n",
       "         4.625 ,  2.75  , 12.5625, 10.875 , 11.    ,  2.375 ,  4.125 ,\n",
       "         9.8125,  5.    ,  9.75  ,  1.625 , 13.0625, 13.5   ,  7.25  ,\n",
       "         3.25  , 13.4375,  8.125 , 13.8125,  7.8125,  6.3125,  8.6875],\n",
       "       [ 5.375 , 10.1875, 14.5625, 11.4375,  2.1875,  6.125 ,  4.0625,\n",
       "         2.3125,  1.625 , 15.625 ,  9.25  , 14.875 , 15.8125,  2.    ,\n",
       "         1.375 ,  8.1875,  7.4375, 11.75  ,  3.5625, 14.    ,  5.125 ,\n",
       "        14.4375, 15.5   , 15.9375,  5.9375,  2.625 , 11.    , 13.8125],\n",
       "       [ 7.4375, 12.75  , 14.875 ,  9.4375, 10.6875,  0.625 , 13.375 ,\n",
       "         0.25  , 15.6875,  0.8125,  0.4375,  1.6875, 13.375 , 13.3125,\n",
       "         8.0625, 12.75  ,  7.625 , 11.1875, 14.1875,  9.1875, 14.6875,\n",
       "         3.125 ,  9.625 , 13.1875, 14.1875, 11.5625, 12.375 ,  8.5625],\n",
       "       [ 2.6875,  6.    ,  8.9375, 12.1875,  0.625 ,  8.3125,  0.3125,\n",
       "         9.375 , 12.4375,  6.    , 12.5   , 12.    ,  3.6875,  8.    ,\n",
       "         0.625 ,  5.75  ,  8.    , 12.125 ,  2.4375,  8.    , 15.4375,\n",
       "         3.5625, 11.75  , 12.5   , 15.9375,  9.5   , 11.375 , 12.5625],\n",
       "       [13.4375,  4.5625,  0.6875,  6.4375,  6.9375, 10.0625, 13.3125,\n",
       "         5.125 ,  2.875 ,  8.25  ,  6.4375, 12.875 ,  9.8125,  8.6875,\n",
       "        10.5625,  5.375 ,  2.125 , 11.    ,  6.0625,  6.375 ,  1.125 ,\n",
       "        10.4375,  7.0625, 12.6875,  3.5   , 14.125 ,  8.1875,  7.4375],\n",
       "       [ 2.9375, 10.625 ,  9.1875,  7.    ,  9.625 , 12.9375,  5.6875,\n",
       "         4.625 ,  5.1875, 10.75  , 12.125 ,  8.    , 11.5   , 10.625 ,\n",
       "        15.25  ,  4.8125,  4.5   ,  5.6875,  2.25  , 13.9375,  0.4375,\n",
       "        12.6875,  8.5   ,  4.0625, 15.3125, 13.125 ,  7.9375, 14.4375],\n",
       "       [ 1.4375,  4.8125,  9.6875,  8.9375,  2.0625,  6.75  , 12.9375,\n",
       "         4.0625, 14.8125, 13.5   , 10.8125,  5.4375,  2.5   , 12.8125,\n",
       "         8.25  , 15.25  ,  3.5625,  9.625 ,  2.3125,  9.    , 13.375 ,\n",
       "         9.125 , 10.875 ,  0.125 ,  9.3125,  0.4375,  4.75  ,  2.9375],\n",
       "       [11.    , 11.25  ,  4.25  ,  3.625 , 13.75  , 14.8125, 14.5   ,\n",
       "        10.6875, 11.    ,  8.4375,  6.9375,  2.4375,  4.9375,  2.8125,\n",
       "        12.0625,  7.375 ,  5.25  ,  2.9375,  3.5625,  5.6875, 15.625 ,\n",
       "        12.    , 14.9375,  3.75  , 15.6875,  3.4375,  9.625 ,  8.0625],\n",
       "       [13.25  , 10.9375, 13.5625, 10.375 , 15.0625,  8.625 ,  4.3125,\n",
       "        15.375 , 11.25  ,  0.3125,  4.1875,  9.375 ,  9.5   ,  6.6875,\n",
       "         4.6875,  5.625 ,  8.25  ,  9.9375,  1.    ,  2.875 ,  1.3125,\n",
       "        14.25  , 15.4375,  5.25  ,  8.625 ,  2.125 ,  1.25  ,  3.625 ],\n",
       "       [ 6.6875, 11.4375,  3.1875, 11.1875, 12.4375,  1.1875, 12.5625,\n",
       "         1.9375,  1.375 ,  0.25  , 12.25  , 11.125 ,  8.5   ,  7.125 ,\n",
       "         9.0625,  3.6875,  8.75  ,  6.375 ,  9.9375,  1.75  , 15.5   ,\n",
       "        14.4375,  0.6875,  7.625 , 15.9375,  8.    ,  8.875 ,  5.375 ],\n",
       "       [14.8125, 11.4375,  5.6875, 12.3125, 15.125 ,  3.4375,  1.3125,\n",
       "        13.875 , 11.25  ,  5.8125,  4.3125, 10.0625,  6.375 , 10.8125,\n",
       "         7.1875, 15.0625,  1.9375,  3.0625,  3.3125, 11.5625, 15.0625,\n",
       "         8.4375, 13.375 ,  9.25  ,  2.9375, 15.5625,  0.875 , 15.5   ],\n",
       "       [14.125 ,  2.5   ,  3.8125,  3.375 ,  9.625 ,  7.5625, 14.875 ,\n",
       "         7.9375,  3.25  ,  4.4375, 14.0625,  5.6875,  6.    ,  8.875 ,\n",
       "         2.1875,  3.    , 11.3125,  4.0625,  4.0625,  4.375 , 14.    ,\n",
       "         4.5   , 15.625 , 15.6875,  9.875 ,  6.625 , 13.1875,  4.1875],\n",
       "       [ 5.4375, 15.75  ,  7.9375, 13.5   ,  6.0625, 13.1875,  0.3125,\n",
       "        12.8125, 10.3125,  9.1875,  7.1875,  3.6875,  6.5   , 13.    ,\n",
       "         1.375 ,  8.0625,  0.5   , 14.0625,  0.3125,  0.5625,  2.4375,\n",
       "         5.125 ,  1.375 , 14.9375, 13.0625, 14.75  ,  5.625 , 12.5625],\n",
       "       [ 1.875 , 10.3125,  6.    ,  9.8125,  8.625 ,  9.4375,  7.0625,\n",
       "         5.6875, 15.5   ,  7.125 ,  8.8125,  2.8125,  7.25  , 12.5625,\n",
       "         6.9375,  7.0625,  0.5   ,  0.5   ,  8.1875, 15.    ,  1.0625,\n",
       "         9.4375,  1.3125, 10.3125,  8.5   ,  1.0625,  9.    , 15.5   ],\n",
       "       [13.875 ,  3.    ,  1.375 , 11.0625, 11.625 , 14.5   , 12.625 ,\n",
       "        14.125 ,  8.75  ,  5.4375, 10.875 ,  9.875 ,  7.3125,  6.25  ,\n",
       "        14.8125, 15.9375,  5.125 , 15.4375,  3.4375, 14.5625, 12.    ,\n",
       "         0.6875, 13.25  ,  5.75  ,  9.9375,  6.25  , 15.5625,  0.5625],\n",
       "       [ 5.5   ,  3.25  ,  4.9375, 14.0625,  7.5   ,  2.875 , 14.625 ,\n",
       "        12.1875, 13.25  ,  9.4375, 15.    , 11.375 ,  2.375 ,  3.5   ,\n",
       "         8.0625,  4.375 ,  6.1875,  2.1875,  1.375 ,  1.5   ,  0.625 ,\n",
       "        13.375 ,  3.1875, 14.3125, 11.25  ,  9.125 , 11.5   ,  0.125 ],\n",
       "       [15.75  ,  2.3125,  9.9375,  3.5   , 12.5625,  8.875 , 10.0625,\n",
       "         4.625 , 13.25  ,  1.8125, 13.5625, 15.4375,  5.125 ,  9.0625,\n",
       "        12.25  , 11.625 ,  9.75  ,  9.0625, 15.1875, 10.1875,  7.9375,\n",
       "        14.625 , 10.125 , 10.    ,  2.    , 15.125 ,  0.75  ,  2.0625]])"
      ]
     },
     "execution_count": 144,
     "metadata": {},
     "output_type": "execute_result"
    }
   ],
   "source": [
    "im"
   ]
  },
  {
   "cell_type": "code",
   "execution_count": null,
   "metadata": {},
   "outputs": [],
   "source": []
  }
 ],
 "metadata": {
  "kernelspec": {
   "display_name": "Python 3",
   "language": "python",
   "name": "python3"
  },
  "language_info": {
   "codemirror_mode": {
    "name": "ipython",
    "version": 3
   },
   "file_extension": ".py",
   "mimetype": "text/x-python",
   "name": "python",
   "nbconvert_exporter": "python",
   "pygments_lexer": "ipython3",
   "version": "3.7.4"
  }
 },
 "nbformat": 4,
 "nbformat_minor": 2
}
